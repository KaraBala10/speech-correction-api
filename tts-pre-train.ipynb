{
  "nbformat": 4,
  "nbformat_minor": 0,
  "metadata": {
    "colab": {
      "provenance": []
    },
    "kernelspec": {
      "name": "python3",
      "display_name": "Python 3"
    },
    "language_info": {
      "name": "python"
    }
  },
  "cells": [
    {
      "cell_type": "code",
      "execution_count": 36,
      "metadata": {
        "colab": {
          "base_uri": "https://localhost:8080/"
        },
        "id": "ikwXRRESjHWd",
        "outputId": "d121df30-3dae-44be-b44a-915af968aa92"
      },
      "outputs": [
        {
          "output_type": "stream",
          "name": "stdout",
          "text": [
            "Cloning into 'tts-arabic-pytorch'...\n",
            "remote: Enumerating objects: 337, done.\u001b[K\n",
            "remote: Counting objects: 100% (71/71), done.\u001b[K\n",
            "remote: Compressing objects: 100% (23/23), done.\u001b[K\n",
            "remote: Total 337 (delta 56), reused 48 (delta 48), pack-reused 266 (from 2)\u001b[K\n",
            "Receiving objects: 100% (337/337), 3.32 MiB | 18.58 MiB/s, done.\n",
            "Resolving deltas: 100% (160/160), done.\n",
            "/content/tts-arabic-pytorch/tts-arabic-pytorch\n"
          ]
        }
      ],
      "source": [
        "!git clone https://github.com/nipponjo/tts-arabic-pytorch.git\n",
        "%cd tts-arabic-pytorch"
      ]
    },
    {
      "cell_type": "code",
      "source": [
        "!pip install -U gdown\n",
        "!gdown 1FD2J-xUk48JPF9TeS8ZKHzDC_ZNBfLd8 --output ar-tts-models.zip"
      ],
      "metadata": {
        "colab": {
          "base_uri": "https://localhost:8080/"
        },
        "id": "1h6g9DeVjIyV",
        "outputId": "8864f327-ab99-4689-967c-3631330b4fa7"
      },
      "execution_count": 37,
      "outputs": [
        {
          "output_type": "stream",
          "name": "stdout",
          "text": [
            "Requirement already satisfied: gdown in /usr/local/lib/python3.11/dist-packages (5.2.0)\n",
            "Requirement already satisfied: beautifulsoup4 in /usr/local/lib/python3.11/dist-packages (from gdown) (4.13.4)\n",
            "Requirement already satisfied: filelock in /usr/local/lib/python3.11/dist-packages (from gdown) (3.18.0)\n",
            "Requirement already satisfied: requests[socks] in /usr/local/lib/python3.11/dist-packages (from gdown) (2.32.3)\n",
            "Requirement already satisfied: tqdm in /usr/local/lib/python3.11/dist-packages (from gdown) (4.67.1)\n",
            "Requirement already satisfied: soupsieve>1.2 in /usr/local/lib/python3.11/dist-packages (from beautifulsoup4->gdown) (2.7)\n",
            "Requirement already satisfied: typing-extensions>=4.0.0 in /usr/local/lib/python3.11/dist-packages (from beautifulsoup4->gdown) (4.14.1)\n",
            "Requirement already satisfied: charset-normalizer<4,>=2 in /usr/local/lib/python3.11/dist-packages (from requests[socks]->gdown) (3.4.2)\n",
            "Requirement already satisfied: idna<4,>=2.5 in /usr/local/lib/python3.11/dist-packages (from requests[socks]->gdown) (3.10)\n",
            "Requirement already satisfied: urllib3<3,>=1.21.1 in /usr/local/lib/python3.11/dist-packages (from requests[socks]->gdown) (2.4.0)\n",
            "Requirement already satisfied: certifi>=2017.4.17 in /usr/local/lib/python3.11/dist-packages (from requests[socks]->gdown) (2025.7.14)\n",
            "Requirement already satisfied: PySocks!=1.5.7,>=1.5.6 in /usr/local/lib/python3.11/dist-packages (from requests[socks]->gdown) (1.7.1)\n",
            "Downloading...\n",
            "From (original): https://drive.google.com/uc?id=1FD2J-xUk48JPF9TeS8ZKHzDC_ZNBfLd8\n",
            "From (redirected): https://drive.google.com/uc?id=1FD2J-xUk48JPF9TeS8ZKHzDC_ZNBfLd8&confirm=t&uuid=fac876e6-dc0d-41d4-8030-9ad879d221ea\n",
            "To: /content/tts-arabic-pytorch/tts-arabic-pytorch/ar-tts-models.zip\n",
            "100% 633M/633M [00:04<00:00, 134MB/s]\n"
          ]
        }
      ]
    },
    {
      "cell_type": "code",
      "source": [
        "!mkdir -p saved_models\n",
        "!unzip ar-tts-models.zip -d saved_models/"
      ],
      "metadata": {
        "colab": {
          "base_uri": "https://localhost:8080/"
        },
        "id": "mmAGaR2TjWg2",
        "outputId": "45aca6bf-604d-4b15-a875-8e33448cc72f"
      },
      "execution_count": 38,
      "outputs": [
        {
          "output_type": "stream",
          "name": "stdout",
          "text": [
            "Archive:  ar-tts-models.zip\n",
            "   creating: saved_models/diacritizers/\n",
            "  inflating: saved_models/diacritizers/shakkala_second_model6.pth  \n",
            "  inflating: saved_models/diacritizers/shakkelha_rnn_3_big_20.pth  \n",
            "  inflating: saved_models/fastpitch_ar_adv.pth  \n",
            "  inflating: saved_models/fastpitch_ar_mse.pth  \n",
            "   creating: saved_models/hifigan-asc-v1/\n",
            "  inflating: saved_models/hifigan-asc-v1/config.json  \n",
            "  inflating: saved_models/hifigan-asc-v1/hifigan-asc.pth  \n",
            "  inflating: saved_models/tacotron2_ar_adv.pth  \n",
            "  inflating: saved_models/tacotron2_ar_mse.pth  \n"
          ]
        }
      ]
    },
    {
      "cell_type": "code",
      "source": [
        "!mkdir -p text\n",
        "with open(\"text/input.txt\", \"w\", encoding=\"utf-8\") as f:\n",
        "    f.write(\"تُفَّاحَة\")"
      ],
      "metadata": {
        "id": "g-pNXCRMjdcE"
      },
      "execution_count": 39,
      "outputs": []
    },
    {
      "cell_type": "code",
      "source": [
        "!python inference.py \\\n",
        "  --list text/input.txt \\\n",
        "  --model fastpitch \\\n",
        "  --checkpoint saved_models/fastpitch_ar_adv.pth \\\n",
        "  --vocoder_sd saved_models/hifigan-asc-v1/hifigan-asc.pth \\\n",
        "  --vocoder_config saved_models/hifigan-asc-v1/config.json \\\n",
        "  --out_dir output_audio \\\n",
        "  --speed 1.0 \\\n",
        "  --denoise 0.01 \\\n",
        "  --batch_size 1"
      ],
      "metadata": {
        "colab": {
          "base_uri": "https://localhost:8080/"
        },
        "id": "sphnBgrAjf37",
        "outputId": "5d82ee23-312c-4fbe-9b93-60d919091a4c"
      },
      "execution_count": 40,
      "outputs": [
        {
          "output_type": "stream",
          "name": "stdout",
          "text": [
            "\r[==============================] 100.0%\n",
            "Saved files to: output_audio\n"
          ]
        }
      ]
    }
  ]
}